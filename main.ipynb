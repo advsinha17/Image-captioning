{
 "cells": [
  {
   "cell_type": "code",
   "execution_count": 3,
   "metadata": {},
   "outputs": [],
   "source": [
    "import tensorflow as tf\n",
    "import numpy as np\n",
    "import os\n",
    "from utils import *\n",
    "import pickle\n",
    "from model import ImageCaptioningModel\n",
    "from sklearn.model_selection import train_test_split\n",
    "from dataset import DataGenerator\n",
    "import warnings\n",
    "warnings.filterwarnings(\"ignore\")\n",
    "\n",
    "\n",
    "tf.get_logger().setLevel('ERROR')\n",
    "os.environ[\"TF_CPP_MIN_LOG_LEVEL\"] = \"2\""
   ]
  },
  {
   "cell_type": "code",
   "execution_count": 4,
   "metadata": {},
   "outputs": [],
   "source": [
    "CWD = os.getcwd()\n",
    "BATCH_SIZE = 16"
   ]
  },
  {
   "cell_type": "code",
   "execution_count": 5,
   "metadata": {},
   "outputs": [],
   "source": [
    "embeddings_path = os.path.join(CWD, 'glove.6B/glove.6B.100d.txt')\n",
    "embeddings_index = load_embeddings(embeddings_path)\n",
    "embedding_dim = 100\n",
    "captions_path = os.path.join(CWD, 'data/captions.txt')\n",
    "caption_dict = preprocess_captions(captions_path)\n",
    "tokenizer = Tokenizer(filters='!\"#$%&()*+,-./:;=?@[\\\\]^_`{|}~\\t\\n')\n",
    "vocab = get_vocab(caption_dict)\n",
    "tokenizer.fit_on_texts(vocab)\n",
    "vocab_size = len(vocab) + 1\n",
    "embedding_matrix = create_embedding_matrix(tokenizer, vocab_size, embeddings_index, embedding_dim)\n",
    "max_seq_length = get_max_length(caption_dict)"
   ]
  },
  {
   "cell_type": "code",
   "execution_count": 7,
   "metadata": {},
   "outputs": [],
   "source": [
    "features_path = os.path.join(CWD, 'encodings.pkl')\n",
    "with open(features_path, 'rb') as f:\n",
    "    features_dict = pickle.load(f)"
   ]
  },
  {
   "cell_type": "code",
   "execution_count": 8,
   "metadata": {},
   "outputs": [
    {
     "data": {
      "text/plain": [
       "(4083, 100)"
      ]
     },
     "execution_count": 8,
     "metadata": {},
     "output_type": "execute_result"
    }
   ],
   "source": [
    "embedding_matrix.shape"
   ]
  },
  {
   "cell_type": "code",
   "execution_count": 9,
   "metadata": {},
   "outputs": [],
   "source": [
    "model = ImageCaptioningModel(vocab_size, max_seq_length, embedding_matrix, embedding_dim)"
   ]
  },
  {
   "cell_type": "code",
   "execution_count": 10,
   "metadata": {},
   "outputs": [],
   "source": [
    "keys = list(caption_dict.keys())\n",
    "train_keys, test_keys = train_test_split(keys, test_size = 0.2, random_state = 42)\n",
    "train_keys, val_keys = train_test_split(train_keys, test_size = 0.25, random_state = 42)"
   ]
  },
  {
   "cell_type": "code",
   "execution_count": 11,
   "metadata": {},
   "outputs": [],
   "source": [
    "train_captions = {k: caption_dict[k] for k in train_keys}\n",
    "val_captions = {k: caption_dict[k] for k in val_keys}\n",
    "test_captions = {k: caption_dict[k] for k in test_keys}\n",
    "\n",
    "train_features = {k: features_dict[k] for k in train_keys}\n",
    "val_features = {k: features_dict[k] for k in val_keys}\n",
    "test_features = {k: features_dict[k] for k in test_keys}\n"
   ]
  },
  {
   "cell_type": "code",
   "execution_count": 12,
   "metadata": {},
   "outputs": [],
   "source": [
    "train_data_generator = DataGenerator(train_captions, train_features, tokenizer, max_seq_length, vocab_size, batch_size=BATCH_SIZE)\n",
    "val_data_generator = DataGenerator(val_captions, val_features, tokenizer, max_seq_length, vocab_size, batch_size=BATCH_SIZE)\n",
    "test_data_generator = DataGenerator(test_captions, test_features, tokenizer, max_seq_length, vocab_size, batch_size=BATCH_SIZE)"
   ]
  },
  {
   "cell_type": "code",
   "execution_count": 14,
   "metadata": {},
   "outputs": [],
   "source": [
    "model.compile(loss='categorical_crossentropy', \n",
    "              optimizer='adam', \n",
    "              metrics=['accuracy'])\n",
    "# model = tf.keras.models.load_model(os.path.join(CWD, 'model'))"
   ]
  },
  {
   "cell_type": "code",
   "execution_count": 12,
   "metadata": {},
   "outputs": [],
   "source": [
    "model_path = os.path.join(CWD, \"model\")\n",
    "checkpoint = tf.keras.callbacks.ModelCheckpoint(model_path,\n",
    "                            monitor=\"val_loss\",\n",
    "                            mode=\"min\",\n",
    "                            save_best_only = True,\n",
    "                            verbose=0)\n",
    "\n",
    "# earlystopping = tf.keras.callbacks.EarlyStopping(monitor='val_loss',min_delta = 0, patience = 5, verbose = 0, restore_best_weights=True)\n",
    "\n",
    "# learning_rate_reduction = tf.keras.callbacks.ReduceLROnPlateau(monitor='val_loss', \n",
    "#                                             patience=3, \n",
    "#                                             verbose=0, \n",
    "#                                             factor=0.5, \n",
    "#                                             min_lr=1e-6)"
   ]
  },
  {
   "cell_type": "code",
   "execution_count": 13,
   "metadata": {},
   "outputs": [
    {
     "name": "stdout",
     "output_type": "stream",
     "text": [
      "Epoch 1/50\n",
      "304/304 [==============================] - 150s 489ms/step - loss: 5.0047 - accuracy: 0.1772 - val_loss: 4.2682 - val_accuracy: 0.2400\n",
      "Epoch 2/50\n",
      "304/304 [==============================] - 166s 547ms/step - loss: 4.1026 - accuracy: 0.2413 - val_loss: 3.9076 - val_accuracy: 0.2664\n",
      "Epoch 3/50\n",
      "304/304 [==============================] - 171s 563ms/step - loss: 3.7833 - accuracy: 0.2637 - val_loss: 3.7358 - val_accuracy: 0.2835\n",
      "Epoch 4/50\n",
      "304/304 [==============================] - 175s 575ms/step - loss: 3.5747 - accuracy: 0.2799 - val_loss: 3.6406 - val_accuracy: 0.2972\n",
      "Epoch 5/50\n",
      "304/304 [==============================] - 171s 563ms/step - loss: 3.4164 - accuracy: 0.2920 - val_loss: 3.5808 - val_accuracy: 0.3041\n",
      "Epoch 6/50\n",
      "304/304 [==============================] - 177s 582ms/step - loss: 3.2951 - accuracy: 0.3007 - val_loss: 3.5752 - val_accuracy: 0.3064\n",
      "Epoch 7/50\n",
      "304/304 [==============================] - 191s 629ms/step - loss: 3.1890 - accuracy: 0.3096 - val_loss: 3.5530 - val_accuracy: 0.3105\n",
      "Epoch 8/50\n",
      "304/304 [==============================] - 194s 639ms/step - loss: 3.0986 - accuracy: 0.3170 - val_loss: 3.5554 - val_accuracy: 0.3115\n",
      "Epoch 9/50\n",
      "304/304 [==============================] - 194s 638ms/step - loss: 3.0197 - accuracy: 0.3250 - val_loss: 3.5721 - val_accuracy: 0.3149\n",
      "Epoch 10/50\n",
      "304/304 [==============================] - 168s 551ms/step - loss: 2.9479 - accuracy: 0.3312 - val_loss: 3.5717 - val_accuracy: 0.3169\n",
      "Epoch 11/50\n",
      "304/304 [==============================] - 164s 540ms/step - loss: 2.8827 - accuracy: 0.3382 - val_loss: 3.5965 - val_accuracy: 0.3147\n",
      "Epoch 12/50\n",
      "304/304 [==============================] - 156s 513ms/step - loss: 2.8260 - accuracy: 0.3436 - val_loss: 3.6199 - val_accuracy: 0.3158\n",
      "Epoch 13/50\n",
      "304/304 [==============================] - 157s 517ms/step - loss: 2.7771 - accuracy: 0.3497 - val_loss: 3.6363 - val_accuracy: 0.3182\n",
      "Epoch 14/50\n",
      "304/304 [==============================] - 160s 527ms/step - loss: 2.7291 - accuracy: 0.3549 - val_loss: 3.6639 - val_accuracy: 0.3155\n",
      "Epoch 15/50\n",
      "304/304 [==============================] - 163s 538ms/step - loss: 2.6887 - accuracy: 0.3604 - val_loss: 3.6879 - val_accuracy: 0.3162\n",
      "Epoch 16/50\n",
      "304/304 [==============================] - 161s 531ms/step - loss: 2.6496 - accuracy: 0.3654 - val_loss: 3.7157 - val_accuracy: 0.3194\n",
      "Epoch 17/50\n",
      "304/304 [==============================] - 158s 521ms/step - loss: 2.6165 - accuracy: 0.3695 - val_loss: 3.7436 - val_accuracy: 0.3188\n",
      "Epoch 18/50\n",
      "304/304 [==============================] - 156s 512ms/step - loss: 2.5797 - accuracy: 0.3732 - val_loss: 3.7567 - val_accuracy: 0.3172\n",
      "Epoch 19/50\n",
      "304/304 [==============================] - 162s 534ms/step - loss: 2.5514 - accuracy: 0.3779 - val_loss: 3.7854 - val_accuracy: 0.3167\n",
      "Epoch 20/50\n",
      "304/304 [==============================] - 163s 537ms/step - loss: 2.5236 - accuracy: 0.3811 - val_loss: 3.8074 - val_accuracy: 0.3177\n",
      "Epoch 21/50\n",
      "304/304 [==============================] - 162s 532ms/step - loss: 2.5023 - accuracy: 0.3841 - val_loss: 3.8448 - val_accuracy: 0.3196\n",
      "Epoch 22/50\n",
      "304/304 [==============================] - 157s 517ms/step - loss: 2.4773 - accuracy: 0.3876 - val_loss: 3.8403 - val_accuracy: 0.3197\n",
      "Epoch 23/50\n",
      "304/304 [==============================] - 158s 521ms/step - loss: 2.4568 - accuracy: 0.3900 - val_loss: 3.8808 - val_accuracy: 0.3165\n",
      "Epoch 24/50\n",
      "304/304 [==============================] - 172s 565ms/step - loss: 2.4399 - accuracy: 0.3931 - val_loss: 3.8759 - val_accuracy: 0.3158\n",
      "Epoch 25/50\n",
      "304/304 [==============================] - 156s 515ms/step - loss: 2.4186 - accuracy: 0.3951 - val_loss: 3.9290 - val_accuracy: 0.3194\n",
      "Epoch 26/50\n",
      "304/304 [==============================] - 194s 639ms/step - loss: 2.4039 - accuracy: 0.3987 - val_loss: 3.9551 - val_accuracy: 0.3163\n",
      "Epoch 27/50\n",
      "304/304 [==============================] - 159s 525ms/step - loss: 2.3880 - accuracy: 0.4011 - val_loss: 3.9496 - val_accuracy: 0.3184\n",
      "Epoch 28/50\n",
      "304/304 [==============================] - 159s 525ms/step - loss: 2.3702 - accuracy: 0.4028 - val_loss: 3.9834 - val_accuracy: 0.3166\n",
      "Epoch 29/50\n",
      "304/304 [==============================] - 166s 548ms/step - loss: 2.3587 - accuracy: 0.4056 - val_loss: 4.0158 - val_accuracy: 0.3200\n",
      "Epoch 30/50\n",
      "304/304 [==============================] - 159s 523ms/step - loss: 2.3441 - accuracy: 0.4075 - val_loss: 4.0238 - val_accuracy: 0.3172\n",
      "Epoch 31/50\n",
      "304/304 [==============================] - 192s 633ms/step - loss: 2.3316 - accuracy: 0.4096 - val_loss: 4.0400 - val_accuracy: 0.3161\n",
      "Epoch 32/50\n",
      "304/304 [==============================] - 162s 534ms/step - loss: 2.3171 - accuracy: 0.4109 - val_loss: 4.0688 - val_accuracy: 0.3161\n",
      "Epoch 33/50\n",
      "304/304 [==============================] - 210s 691ms/step - loss: 2.3053 - accuracy: 0.4126 - val_loss: 4.0795 - val_accuracy: 0.3166\n",
      "Epoch 34/50\n",
      "304/304 [==============================] - 213s 702ms/step - loss: 2.2929 - accuracy: 0.4156 - val_loss: 4.1126 - val_accuracy: 0.3167\n",
      "Epoch 35/50\n",
      "304/304 [==============================] - 199s 656ms/step - loss: 2.2855 - accuracy: 0.4175 - val_loss: 4.1190 - val_accuracy: 0.3174\n",
      "Epoch 36/50\n",
      "304/304 [==============================] - 205s 674ms/step - loss: 2.2715 - accuracy: 0.4182 - val_loss: 4.1431 - val_accuracy: 0.3158\n",
      "Epoch 37/50\n",
      "304/304 [==============================] - 187s 616ms/step - loss: 2.2602 - accuracy: 0.4202 - val_loss: 4.1576 - val_accuracy: 0.3169\n",
      "Epoch 38/50\n",
      "304/304 [==============================] - 187s 616ms/step - loss: 2.2521 - accuracy: 0.4220 - val_loss: 4.1841 - val_accuracy: 0.3161\n",
      "Epoch 39/50\n",
      "304/304 [==============================] - 191s 629ms/step - loss: 2.2445 - accuracy: 0.4222 - val_loss: 4.1805 - val_accuracy: 0.3180\n",
      "Epoch 40/50\n",
      "304/304 [==============================] - 191s 627ms/step - loss: 2.2341 - accuracy: 0.4252 - val_loss: 4.2029 - val_accuracy: 0.3157\n",
      "Epoch 41/50\n",
      "304/304 [==============================] - 205s 675ms/step - loss: 2.2274 - accuracy: 0.4256 - val_loss: 4.2314 - val_accuracy: 0.3156\n",
      "Epoch 42/50\n",
      "  7/304 [..............................] - ETA: 3:40 - loss: 2.1381 - accuracy: 0.4341"
     ]
    }
   ],
   "source": [
    "NUM_EPOCHS = 50\n",
    "with tf.device('/cpu:0'):\n",
    "   history = model.fit(train_data_generator,\n",
    "                     epochs = NUM_EPOCHS,\n",
    "                  validation_data = val_data_generator,\n",
    "                  callbacks = [checkpoint])"
   ]
  }
 ],
 "metadata": {
  "kernelspec": {
   "display_name": "tensorflow",
   "language": "python",
   "name": "python3"
  },
  "language_info": {
   "codemirror_mode": {
    "name": "ipython",
    "version": 3
   },
   "file_extension": ".py",
   "mimetype": "text/x-python",
   "name": "python",
   "nbconvert_exporter": "python",
   "pygments_lexer": "ipython3",
   "version": "3.10.12"
  },
  "orig_nbformat": 4
 },
 "nbformat": 4,
 "nbformat_minor": 2
}
